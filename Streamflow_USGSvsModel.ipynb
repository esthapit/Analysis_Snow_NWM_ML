{
 "cells": [
  {
   "cell_type": "code",
   "execution_count": 1,
   "metadata": {},
   "outputs": [],
   "source": [
    "import pandas as pd\n",
    "from pylab import text\n",
    "import matplotlib.pyplot as plt\n",
    "import matplotlib\n",
    "import numpy as np\n",
    "%matplotlib inline\n",
    "import matplotlib.ticker as ticker"
   ]
  },
  {
   "cell_type": "markdown",
   "metadata": {},
   "source": [
    "# READ CSV"
   ]
  },
  {
   "cell_type": "code",
   "execution_count": 2,
   "metadata": {},
   "outputs": [],
   "source": [
    "da_802939=pd.read_csv('/apollo1/esthapit/NWM_Retro_shed/R_Files/da_NWM_802939.csv',delimiter=',')\n",
    "da_802877=pd.read_csv('/apollo1/esthapit/NWM_Retro_shed/R_Files/da_NWM_802877.csv',delimiter=',')\n",
    "da_805113=pd.read_csv('/apollo1/esthapit/NWM_Retro_shed/R_Files/da_NWM_805113.csv',delimiter=',')\n",
    "da_805443=pd.read_csv('/apollo1/esthapit/NWM_Retro_shed/R_Files/da_NWM_805443.csv',delimiter=',')"
   ]
  },
  {
   "cell_type": "code",
   "execution_count": 3,
   "metadata": {},
   "outputs": [],
   "source": [
    "da_802939[\"datetime\"]=pd.to_datetime(da_802939[\"datetime\"],format='%Y-%m-%d %H:%M:%S',errors='coerce')\n",
    "da_802877[\"datetime\"]=pd.to_datetime(da_802877[\"datetime\"],format='%Y-%m-%d %H:%M:%S',errors='coerce')\n",
    "da_805113[\"datetime\"]=pd.to_datetime(da_805113[\"datetime\"],format='%Y-%m-%d %H:%M:%S',errors='coerce')\n",
    "da_805443[\"datetime\"]=pd.to_datetime(da_805443[\"datetime\"],format='%Y-%m-%d %H:%M:%S',errors='coerce')"
   ]
  },
  {
   "cell_type": "code",
   "execution_count": 14,
   "metadata": {},
   "outputs": [
    {
     "name": "stdout",
     "output_type": "stream",
     "text": [
      "<class 'pandas.core.frame.DataFrame'>\n",
      "RangeIndex: 52583 entries, 0 to 52582\n",
      "Data columns (total 5 columns):\n",
      " #   Column      Non-Null Count  Dtype         \n",
      "---  ------      --------------  -----         \n",
      " 0   streamflow  52583 non-null  float64       \n",
      " 1   velocity    52583 non-null  float64       \n",
      " 2   feature_id  52583 non-null  int64         \n",
      " 3   POSIXct     52583 non-null  object        \n",
      " 4   datetime    52583 non-null  datetime64[ns]\n",
      "dtypes: datetime64[ns](1), float64(2), int64(1), object(1)\n",
      "memory usage: 2.0+ MB\n"
     ]
    }
   ],
   "source": [
    "da_802939.info()"
   ]
  },
  {
   "cell_type": "code",
   "execution_count": 15,
   "metadata": {},
   "outputs": [
    {
     "name": "stdout",
     "output_type": "stream",
     "text": [
      "<class 'pandas.core.frame.DataFrame'>\n",
      "RangeIndex: 52583 entries, 0 to 52582\n",
      "Data columns (total 5 columns):\n",
      " #   Column      Non-Null Count  Dtype         \n",
      "---  ------      --------------  -----         \n",
      " 0   streamflow  52583 non-null  float64       \n",
      " 1   velocity    52583 non-null  float64       \n",
      " 2   feature_id  52583 non-null  int64         \n",
      " 3   POSIXct     52583 non-null  object        \n",
      " 4   datetime    52583 non-null  datetime64[ns]\n",
      "dtypes: datetime64[ns](1), float64(2), int64(1), object(1)\n",
      "memory usage: 2.0+ MB\n"
     ]
    }
   ],
   "source": [
    "da_802877.info()"
   ]
  },
  {
   "cell_type": "code",
   "execution_count": 16,
   "metadata": {},
   "outputs": [
    {
     "name": "stdout",
     "output_type": "stream",
     "text": [
      "<class 'pandas.core.frame.DataFrame'>\n",
      "RangeIndex: 52583 entries, 0 to 52582\n",
      "Data columns (total 5 columns):\n",
      " #   Column      Non-Null Count  Dtype         \n",
      "---  ------      --------------  -----         \n",
      " 0   streamflow  52583 non-null  float64       \n",
      " 1   velocity    52583 non-null  float64       \n",
      " 2   feature_id  52583 non-null  int64         \n",
      " 3   POSIXct     52583 non-null  object        \n",
      " 4   datetime    52583 non-null  datetime64[ns]\n",
      "dtypes: datetime64[ns](1), float64(2), int64(1), object(1)\n",
      "memory usage: 2.0+ MB\n"
     ]
    }
   ],
   "source": [
    "da_805113.info()"
   ]
  },
  {
   "cell_type": "code",
   "execution_count": 17,
   "metadata": {},
   "outputs": [
    {
     "name": "stdout",
     "output_type": "stream",
     "text": [
      "<class 'pandas.core.frame.DataFrame'>\n",
      "RangeIndex: 52583 entries, 0 to 52582\n",
      "Data columns (total 5 columns):\n",
      " #   Column      Non-Null Count  Dtype         \n",
      "---  ------      --------------  -----         \n",
      " 0   streamflow  52583 non-null  float64       \n",
      " 1   velocity    52583 non-null  float64       \n",
      " 2   feature_id  52583 non-null  int64         \n",
      " 3   POSIXct     52583 non-null  object        \n",
      " 4   datetime    52583 non-null  datetime64[ns]\n",
      "dtypes: datetime64[ns](1), float64(2), int64(1), object(1)\n",
      "memory usage: 2.0+ MB\n"
     ]
    }
   ],
   "source": [
    "da_805443.info()"
   ]
  },
  {
   "cell_type": "code",
   "execution_count": 4,
   "metadata": {},
   "outputs": [],
   "source": [
    "df_01017290=pd.read_csv('/USGS_01017290_2014_2019.csv',delimiter=',')\n",
    "df_01017060=pd.read_csv('/USGS_01017060_2014_2019.csv',delimiter=',')\n",
    "df_01015800=pd.read_csv('/USGS_01015800_2014_2019.csv',delimiter=',')\n",
    "df_01017000=pd.read_csv('/USGS_01017000_2014_2019.csv',delimiter=',')"
   ]
  },
  {
   "cell_type": "code",
   "execution_count": 5,
   "metadata": {},
   "outputs": [],
   "source": [
    "df_01017290[\"datetime\"]=pd.to_datetime(df_01017290[\"datetime\"],format='%Y-%m-%d %H:%M:%S',errors='coerce')\n",
    "df_01017060[\"datetime\"]=pd.to_datetime(df_01017060[\"datetime\"],format='%Y-%m-%d %H:%M:%S',errors='coerce')\n",
    "df_01015800[\"datetime\"]=pd.to_datetime(df_01015800[\"datetime\"],format='%Y-%m-%d %H:%M:%S',errors='coerce')\n",
    "df_01017000[\"datetime\"]=pd.to_datetime(df_01017000[\"datetime\"],format='%Y-%m-%d %H:%M:%S',errors='coerce')"
   ]
  },
  {
   "cell_type": "code",
   "execution_count": 6,
   "metadata": {},
   "outputs": [],
   "source": [
    "df_01017290.rename(columns={'65379_00060':'streamflow(cfs)'}, inplace=True)\n",
    "df_01017060.rename(columns={'65375_00060':'streamflow(cfs)'}, inplace=True)\n",
    "df_01015800.rename(columns={'65364_00060':'streamflow(cfs)'}, inplace=True)\n",
    "df_01017000.rename(columns={'65370_00060':'streamflow(cfs)'}, inplace=True)"
   ]
  },
  {
   "cell_type": "code",
   "execution_count": 7,
   "metadata": {},
   "outputs": [],
   "source": [
    "df_01017290[\"streamflow(m3/s)\"]=df_01017290[\"streamflow(cfs)\"]*0.028\n",
    "df_01017060[\"streamflow(m3/s)\"]=df_01017060[\"streamflow(cfs)\"]*0.028\n",
    "df_01015800[\"streamflow(m3/s)\"]=df_01015800[\"streamflow(cfs)\"]*0.028\n",
    "df_01017000[\"streamflow(m3/s)\"]=df_01017000[\"streamflow(cfs)\"]*0.028"
   ]
  },
  {
   "cell_type": "code",
   "execution_count": 27,
   "metadata": {},
   "outputs": [
    {
     "name": "stdout",
     "output_type": "stream",
     "text": [
      "<class 'pandas.core.frame.DataFrame'>\n",
      "RangeIndex: 152147 entries, 0 to 152146\n",
      "Data columns (total 7 columns):\n",
      " #   Column            Non-Null Count   Dtype         \n",
      "---  ------            --------------   -----         \n",
      " 0   agency_cd         152147 non-null  object        \n",
      " 1   site_no           152147 non-null  int64         \n",
      " 2   datetime          152147 non-null  datetime64[ns]\n",
      " 3   tz_cd             152147 non-null  object        \n",
      " 4   streamflow(cfs)   123635 non-null  float64       \n",
      " 5   65364_00060_cd    152147 non-null  object        \n",
      " 6   streamflow(m3/s)  123635 non-null  float64       \n",
      "dtypes: datetime64[ns](1), float64(2), int64(1), object(3)\n",
      "memory usage: 8.1+ MB\n"
     ]
    }
   ],
   "source": [
    "df_01015800.info()"
   ]
  },
  {
   "cell_type": "code",
   "execution_count": 28,
   "metadata": {},
   "outputs": [
    {
     "name": "stdout",
     "output_type": "stream",
     "text": [
      "<class 'pandas.core.frame.DataFrame'>\n",
      "RangeIndex: 153649 entries, 0 to 153648\n",
      "Data columns (total 7 columns):\n",
      " #   Column            Non-Null Count   Dtype         \n",
      "---  ------            --------------   -----         \n",
      " 0   agency_cd         153649 non-null  object        \n",
      " 1   site_no           153649 non-null  int64         \n",
      " 2   datetime          153649 non-null  datetime64[ns]\n",
      " 3   tz_cd             153649 non-null  object        \n",
      " 4   streamflow(cfs)   125137 non-null  float64       \n",
      " 5   65370_00060_cd    153649 non-null  object        \n",
      " 6   streamflow(m3/s)  125137 non-null  float64       \n",
      "dtypes: datetime64[ns](1), float64(2), int64(1), object(3)\n",
      "memory usage: 8.2+ MB\n"
     ]
    }
   ],
   "source": [
    "df_01017000.info()"
   ]
  },
  {
   "cell_type": "code",
   "execution_count": 29,
   "metadata": {},
   "outputs": [
    {
     "name": "stdout",
     "output_type": "stream",
     "text": [
      "<class 'pandas.core.frame.DataFrame'>\n",
      "RangeIndex: 458660 entries, 0 to 458659\n",
      "Data columns (total 7 columns):\n",
      " #   Column            Non-Null Count   Dtype         \n",
      "---  ------            --------------   -----         \n",
      " 0   agency_cd         458660 non-null  object        \n",
      " 1   site_no           458660 non-null  int64         \n",
      " 2   datetime          458660 non-null  datetime64[ns]\n",
      " 3   tz_cd             458660 non-null  object        \n",
      " 4   streamflow(cfs)   399908 non-null  float64       \n",
      " 5   65375_00060_cd    458660 non-null  object        \n",
      " 6   streamflow(m3/s)  399908 non-null  float64       \n",
      "dtypes: datetime64[ns](1), float64(2), int64(1), object(3)\n",
      "memory usage: 24.5+ MB\n"
     ]
    }
   ],
   "source": [
    "df_01017060.info()"
   ]
  },
  {
   "cell_type": "code",
   "execution_count": 30,
   "metadata": {},
   "outputs": [
    {
     "name": "stdout",
     "output_type": "stream",
     "text": [
      "<class 'pandas.core.frame.DataFrame'>\n",
      "RangeIndex: 158678 entries, 0 to 158677\n",
      "Data columns (total 7 columns):\n",
      " #   Column            Non-Null Count   Dtype         \n",
      "---  ------            --------------   -----         \n",
      " 0   agency_cd         158678 non-null  object        \n",
      " 1   site_no           158678 non-null  int64         \n",
      " 2   datetime          158678 non-null  datetime64[ns]\n",
      " 3   tz_cd             158678 non-null  object        \n",
      " 4   streamflow(cfs)   127768 non-null  float64       \n",
      " 5   65379_00060_cd    158678 non-null  object        \n",
      " 6   streamflow(m3/s)  127768 non-null  float64       \n",
      "dtypes: datetime64[ns](1), float64(2), int64(1), object(3)\n",
      "memory usage: 8.5+ MB\n"
     ]
    }
   ],
   "source": [
    "df_01017290.info()"
   ]
  },
  {
   "cell_type": "code",
   "execution_count": 38,
   "metadata": {},
   "outputs": [
    {
     "name": "stdout",
     "output_type": "stream",
     "text": [
      "<class 'pandas.core.frame.DataFrame'>\n",
      "RangeIndex: 47832 entries, 0 to 47831\n",
      "Data columns (total 3 columns):\n",
      " #   Column             Non-Null Count  Dtype         \n",
      "---  ------             --------------  -----         \n",
      " 0   Datetime           47832 non-null  datetime64[ns]\n",
      " 1   USGS_Har_SF(m3/s)  33272 non-null  float64       \n",
      " 2   NWM_Har_SF(m3/s)   47832 non-null  float64       \n",
      "dtypes: datetime64[ns](1), float64(2)\n",
      "memory usage: 1.1 MB\n"
     ]
    }
   ],
   "source": [
    "df_streamflow_Har.info()"
   ]
  },
  {
   "cell_type": "code",
   "execution_count": 39,
   "metadata": {},
   "outputs": [
    {
     "name": "stdout",
     "output_type": "stream",
     "text": [
      "<class 'pandas.core.frame.DataFrame'>\n",
      "Int64Index: 31896 entries, 0 to 47831\n",
      "Data columns (total 3 columns):\n",
      " #   Column             Non-Null Count  Dtype         \n",
      "---  ------             --------------  -----         \n",
      " 0   Datetime           31896 non-null  datetime64[ns]\n",
      " 1   USGS_Mad_SF(m3/s)  31896 non-null  float64       \n",
      " 2   NWM_Mad_SF(m3/s)   31896 non-null  float64       \n",
      "dtypes: datetime64[ns](1), float64(2)\n",
      "memory usage: 996.8 KB\n"
     ]
    }
   ],
   "source": [
    "column_names=[\"Datetime\",\"USGS_Mad_SF(m3/s)\",\"NWM_Mad_SF(m3/s)\"]\n",
    "df_streamflow_Mad = pd.DataFrame(columns = column_names)\n",
    "df_streamflow_Mad[\"Datetime\"] = da_802877_reset[\"datetime\"]\n",
    "df_streamflow_Mad[\"USGS_Mad_SF(m3/s)\"] = df_01017290_hourly[\"streamflow(m3/s)\"]\n",
    "df_streamflow_Mad[\"NWM_Mad_SF(m3/s)\"] = da_802877_reset[\"streamflow\"]\n",
    "df_streamflow_Mad_drop=df_streamflow_Mad.dropna()\n",
    "df_streamflow_Mad_drop.info()"
   ]
  },
  {
   "cell_type": "code",
   "execution_count": 40,
   "metadata": {},
   "outputs": [
    {
     "name": "stdout",
     "output_type": "stream",
     "text": [
      "<class 'pandas.core.frame.DataFrame'>\n",
      "RangeIndex: 47832 entries, 0 to 47831\n",
      "Data columns (total 3 columns):\n",
      " #   Column             Non-Null Count  Dtype         \n",
      "---  ------             --------------  -----         \n",
      " 0   Datetime           47832 non-null  datetime64[ns]\n",
      " 1   USGS_Mad_SF(m3/s)  31896 non-null  float64       \n",
      " 2   NWM_Mad_SF(m3/s)   47832 non-null  float64       \n",
      "dtypes: datetime64[ns](1), float64(2)\n",
      "memory usage: 1.1 MB\n"
     ]
    }
   ],
   "source": [
    "df_streamflow_Mad.info()"
   ]
  },
  {
   "cell_type": "code",
   "execution_count": 41,
   "metadata": {},
   "outputs": [
    {
     "name": "stdout",
     "output_type": "stream",
     "text": [
      "<class 'pandas.core.frame.DataFrame'>\n",
      "Int64Index: 30577 entries, 0 to 47831\n",
      "Data columns (total 3 columns):\n",
      " #   Column             Non-Null Count  Dtype         \n",
      "---  ------             --------------  -----         \n",
      " 0   Datetime           30577 non-null  datetime64[ns]\n",
      " 1   USGS_Mas_SF(m3/s)  30577 non-null  float64       \n",
      " 2   NWM_Mas_SF(m3/s)   30577 non-null  float64       \n",
      "dtypes: datetime64[ns](1), float64(2)\n",
      "memory usage: 955.5 KB\n"
     ]
    }
   ],
   "source": [
    "column_names=[\"Datetime\",\"USGS_Mas_SF(m3/s)\",\"NWM_Mas_SF(m3/s)\"]\n",
    "df_streamflow_Mas = pd.DataFrame(columns = column_names)\n",
    "df_streamflow_Mas[\"Datetime\"] = da_805443_reset[\"datetime\"]\n",
    "df_streamflow_Mas[\"USGS_Mas_SF(m3/s)\"] = df_01015800_hourly[\"streamflow(m3/s)\"]\n",
    "df_streamflow_Mas[\"NWM_Mas_SF(m3/s)\"] = da_805443_reset[\"streamflow\"]\n",
    "df_streamflow_Mas_drop=df_streamflow_Mas.dropna()\n",
    "df_streamflow_Mas_drop.info()"
   ]
  },
  {
   "cell_type": "code",
   "execution_count": 42,
   "metadata": {},
   "outputs": [
    {
     "name": "stdout",
     "output_type": "stream",
     "text": [
      "<class 'pandas.core.frame.DataFrame'>\n",
      "RangeIndex: 47832 entries, 0 to 47831\n",
      "Data columns (total 3 columns):\n",
      " #   Column             Non-Null Count  Dtype         \n",
      "---  ------             --------------  -----         \n",
      " 0   Datetime           47832 non-null  datetime64[ns]\n",
      " 1   USGS_Mas_SF(m3/s)  30577 non-null  float64       \n",
      " 2   NWM_Mas_SF(m3/s)   47832 non-null  float64       \n",
      "dtypes: datetime64[ns](1), float64(2)\n",
      "memory usage: 1.1 MB\n"
     ]
    }
   ],
   "source": [
    "df_streamflow_Mas.info()"
   ]
  },
  {
   "cell_type": "code",
   "execution_count": 43,
   "metadata": {},
   "outputs": [
    {
     "name": "stdout",
     "output_type": "stream",
     "text": [
      "<class 'pandas.core.frame.DataFrame'>\n",
      "Int64Index: 31098 entries, 0 to 47831\n",
      "Data columns (total 3 columns):\n",
      " #   Column             Non-Null Count  Dtype         \n",
      "---  ------             --------------  -----         \n",
      " 0   Datetime           31098 non-null  datetime64[ns]\n",
      " 1   USGS_Was_SF(m3/s)  31098 non-null  float64       \n",
      " 2   NWM_Was_SF(m3/s)   31098 non-null  float64       \n",
      "dtypes: datetime64[ns](1), float64(2)\n",
      "memory usage: 971.8 KB\n"
     ]
    }
   ],
   "source": [
    "column_names=[\"Datetime\",\"USGS_Was_SF(m3/s)\",\"NWM_Was_SF(m3/s)\"]\n",
    "df_streamflow_Was = pd.DataFrame(columns = column_names)\n",
    "df_streamflow_Was[\"Datetime\"] = da_805113_reset[\"datetime\"]\n",
    "df_streamflow_Was[\"USGS_Was_SF(m3/s)\"] = df_01017000_hourly[\"streamflow(m3/s)\"]\n",
    "df_streamflow_Was[\"NWM_Was_SF(m3/s)\"] = da_805113_reset[\"streamflow\"]\n",
    "df_streamflow_Was_drop=df_streamflow_Was.dropna()\n",
    "df_streamflow_Was_drop.info()"
   ]
  },
  {
   "cell_type": "code",
   "execution_count": 44,
   "metadata": {},
   "outputs": [
    {
     "name": "stdout",
     "output_type": "stream",
     "text": [
      "<class 'pandas.core.frame.DataFrame'>\n",
      "RangeIndex: 47832 entries, 0 to 47831\n",
      "Data columns (total 3 columns):\n",
      " #   Column             Non-Null Count  Dtype         \n",
      "---  ------             --------------  -----         \n",
      " 0   Datetime           47832 non-null  datetime64[ns]\n",
      " 1   USGS_Was_SF(m3/s)  31098 non-null  float64       \n",
      " 2   NWM_Was_SF(m3/s)   47832 non-null  float64       \n",
      "dtypes: datetime64[ns](1), float64(2)\n",
      "memory usage: 1.1 MB\n"
     ]
    }
   ],
   "source": [
    "df_streamflow_Was.info()"
   ]
  },
  {
   "cell_type": "code",
   "execution_count": 52,
   "metadata": {},
   "outputs": [
    {
     "name": "stdout",
     "output_type": "stream",
     "text": [
      "<class 'pandas.core.frame.DataFrame'>\n",
      "RangeIndex: 47832 entries, 0 to 47831\n",
      "Data columns (total 9 columns):\n",
      " #   Column             Non-Null Count  Dtype         \n",
      "---  ------             --------------  -----         \n",
      " 0   Datetime           47832 non-null  datetime64[ns]\n",
      " 1   USGS_Har_SF(m3/s)  33272 non-null  float64       \n",
      " 2   USGS_Mad_SF(m3/s)  31896 non-null  float64       \n",
      " 3   USGS_Mas_SF(m3/s)  30577 non-null  float64       \n",
      " 4   USGS_Was_SF(m3/s)  31098 non-null  float64       \n",
      " 5   NWM_Har_SF(m3/s)   47832 non-null  float64       \n",
      " 6   NWM_Mad_SF(m3/s)   47832 non-null  float64       \n",
      " 7   NWM_Mas_SF(m3/s)   47832 non-null  float64       \n",
      " 8   NWM_Was_SF(m3/s)   47832 non-null  float64       \n",
      "dtypes: datetime64[ns](1), float64(8)\n",
      "memory usage: 3.3 MB\n"
     ]
    }
   ],
   "source": [
    "column_names=[\"Datetime\",\"USGS_Har_SF(m3/s)\",\"USGS_Mad_SF(m3/s)\",\"USGS_Mas_SF(m3/s)\",\"USGS_Was_SF(m3/s)\",\"NWM_Har_SF(m3/s)\",\"NWM_Mad_SF(m3/s)\",\"NWM_Mas_SF(m3/s)\",\"NWM_Was_SF(m3/s)\"]\n",
    "df_streamflow_hourly = pd.DataFrame(columns = column_names)\n",
    "\n",
    "df_streamflow_hourly[\"Datetime\"] = da_802939_reset[\"datetime\"]\n",
    "df_streamflow_hourly[\"USGS_Har_SF(m3/s)\"] = df_01017060_hourly[\"streamflow(m3/s)\"]\n",
    "df_streamflow_hourly[\"USGS_Mad_SF(m3/s)\"] = df_01017290_hourly[\"streamflow(m3/s)\"]\n",
    "df_streamflow_hourly[\"USGS_Mas_SF(m3/s)\"] = df_01015800_hourly[\"streamflow(m3/s)\"]\n",
    "df_streamflow_hourly[\"USGS_Was_SF(m3/s)\"] = df_01017000_hourly[\"streamflow(m3/s)\"]\n",
    "df_streamflow_hourly[\"NWM_Har_SF(m3/s)\"] = da_802939_reset[\"streamflow\"]\n",
    "df_streamflow_hourly[\"NWM_Mad_SF(m3/s)\"] = da_802877_reset[\"streamflow\"]\n",
    "df_streamflow_hourly[\"NWM_Mas_SF(m3/s)\"] = da_805443_reset[\"streamflow\"]\n",
    "df_streamflow_hourly[\"NWM_Was_SF(m3/s)\"] = da_805113_reset[\"streamflow\"]\n",
    "\n",
    "df_streamflow_hourly.to_csv('df_streamflow_hourly.csv', index=None)\n",
    "\n",
    "df_streamflow_hourly.info()"
   ]
  },
  {
   "cell_type": "code",
   "execution_count": 106,
   "metadata": {},
   "outputs": [
    {
     "data": {
      "text/html": [
       "<div>\n",
       "<style scoped>\n",
       "    .dataframe tbody tr th:only-of-type {\n",
       "        vertical-align: middle;\n",
       "    }\n",
       "\n",
       "    .dataframe tbody tr th {\n",
       "        vertical-align: top;\n",
       "    }\n",
       "\n",
       "    .dataframe thead th {\n",
       "        text-align: right;\n",
       "    }\n",
       "</style>\n",
       "<table border=\"1\" class=\"dataframe\">\n",
       "  <thead>\n",
       "    <tr style=\"text-align: right;\">\n",
       "      <th></th>\n",
       "      <th>Datetime</th>\n",
       "      <th>USGS_Har_SF(m3/s)</th>\n",
       "      <th>USGS_Mad_SF(m3/s)</th>\n",
       "      <th>USGS_Mas_SF(m3/s)</th>\n",
       "      <th>USGS_Was_SF(m3/s)</th>\n",
       "      <th>NWM_Har_SF(m3/s)</th>\n",
       "      <th>NWM_Mad_SF(m3/s)</th>\n",
       "      <th>NWM_Mas_SF(m3/s)</th>\n",
       "      <th>NWM_Was_SF(m3/s)</th>\n",
       "    </tr>\n",
       "  </thead>\n",
       "  <tbody>\n",
       "    <tr>\n",
       "      <th>0</th>\n",
       "      <td>2014-04-17 00:00:00</td>\n",
       "      <td>NaN</td>\n",
       "      <td>106.470</td>\n",
       "      <td>476.000</td>\n",
       "      <td>826.70</td>\n",
       "      <td>4.10</td>\n",
       "      <td>26.449999</td>\n",
       "      <td>576.479987</td>\n",
       "      <td>455.299990</td>\n",
       "    </tr>\n",
       "    <tr>\n",
       "      <th>1</th>\n",
       "      <td>2014-04-17 01:00:00</td>\n",
       "      <td>NaN</td>\n",
       "      <td>110.180</td>\n",
       "      <td>471.100</td>\n",
       "      <td>855.40</td>\n",
       "      <td>4.13</td>\n",
       "      <td>25.809999</td>\n",
       "      <td>574.699987</td>\n",
       "      <td>470.949989</td>\n",
       "    </tr>\n",
       "    <tr>\n",
       "      <th>2</th>\n",
       "      <td>2014-04-17 02:00:00</td>\n",
       "      <td>NaN</td>\n",
       "      <td>111.020</td>\n",
       "      <td>468.300</td>\n",
       "      <td>862.40</td>\n",
       "      <td>4.17</td>\n",
       "      <td>25.129999</td>\n",
       "      <td>570.879987</td>\n",
       "      <td>488.009989</td>\n",
       "    </tr>\n",
       "    <tr>\n",
       "      <th>3</th>\n",
       "      <td>2014-04-17 03:00:00</td>\n",
       "      <td>NaN</td>\n",
       "      <td>116.060</td>\n",
       "      <td>467.600</td>\n",
       "      <td>860.30</td>\n",
       "      <td>4.20</td>\n",
       "      <td>24.529999</td>\n",
       "      <td>565.379987</td>\n",
       "      <td>506.929989</td>\n",
       "    </tr>\n",
       "    <tr>\n",
       "      <th>4</th>\n",
       "      <td>2014-04-17 04:00:00</td>\n",
       "      <td>NaN</td>\n",
       "      <td>115.710</td>\n",
       "      <td>466.900</td>\n",
       "      <td>855.40</td>\n",
       "      <td>4.23</td>\n",
       "      <td>23.949999</td>\n",
       "      <td>558.609988</td>\n",
       "      <td>528.119988</td>\n",
       "    </tr>\n",
       "    <tr>\n",
       "      <th>...</th>\n",
       "      <td>...</td>\n",
       "      <td>...</td>\n",
       "      <td>...</td>\n",
       "      <td>...</td>\n",
       "      <td>...</td>\n",
       "      <td>...</td>\n",
       "      <td>...</td>\n",
       "      <td>...</td>\n",
       "      <td>...</td>\n",
       "    </tr>\n",
       "    <tr>\n",
       "      <th>47827</th>\n",
       "      <td>2019-09-30 19:00:00</td>\n",
       "      <td>0.06832</td>\n",
       "      <td>3.696</td>\n",
       "      <td>16.674</td>\n",
       "      <td>29.05</td>\n",
       "      <td>0.47</td>\n",
       "      <td>7.770000</td>\n",
       "      <td>17.070000</td>\n",
       "      <td>40.819999</td>\n",
       "    </tr>\n",
       "    <tr>\n",
       "      <th>47828</th>\n",
       "      <td>2019-09-30 20:00:00</td>\n",
       "      <td>0.06832</td>\n",
       "      <td>3.696</td>\n",
       "      <td>16.569</td>\n",
       "      <td>28.77</td>\n",
       "      <td>0.47</td>\n",
       "      <td>7.770000</td>\n",
       "      <td>17.070000</td>\n",
       "      <td>40.859999</td>\n",
       "    </tr>\n",
       "    <tr>\n",
       "      <th>47829</th>\n",
       "      <td>2019-09-30 21:00:00</td>\n",
       "      <td>0.06832</td>\n",
       "      <td>3.668</td>\n",
       "      <td>16.429</td>\n",
       "      <td>28.56</td>\n",
       "      <td>0.47</td>\n",
       "      <td>7.770000</td>\n",
       "      <td>17.070000</td>\n",
       "      <td>40.899999</td>\n",
       "    </tr>\n",
       "    <tr>\n",
       "      <th>47830</th>\n",
       "      <td>2019-09-30 22:00:00</td>\n",
       "      <td>0.06636</td>\n",
       "      <td>3.640</td>\n",
       "      <td>16.296</td>\n",
       "      <td>28.35</td>\n",
       "      <td>0.48</td>\n",
       "      <td>7.770000</td>\n",
       "      <td>17.070000</td>\n",
       "      <td>40.939999</td>\n",
       "    </tr>\n",
       "    <tr>\n",
       "      <th>47831</th>\n",
       "      <td>2019-09-30 23:00:00</td>\n",
       "      <td>0.06496</td>\n",
       "      <td>3.598</td>\n",
       "      <td>16.177</td>\n",
       "      <td>28.21</td>\n",
       "      <td>0.49</td>\n",
       "      <td>7.780000</td>\n",
       "      <td>17.070000</td>\n",
       "      <td>40.979999</td>\n",
       "    </tr>\n",
       "  </tbody>\n",
       "</table>\n",
       "<p>47832 rows × 9 columns</p>\n",
       "</div>"
      ],
      "text/plain": [
       "                 Datetime  USGS_Har_SF(m3/s)  USGS_Mad_SF(m3/s)  \\\n",
       "0     2014-04-17 00:00:00                NaN            106.470   \n",
       "1     2014-04-17 01:00:00                NaN            110.180   \n",
       "2     2014-04-17 02:00:00                NaN            111.020   \n",
       "3     2014-04-17 03:00:00                NaN            116.060   \n",
       "4     2014-04-17 04:00:00                NaN            115.710   \n",
       "...                   ...                ...                ...   \n",
       "47827 2019-09-30 19:00:00            0.06832              3.696   \n",
       "47828 2019-09-30 20:00:00            0.06832              3.696   \n",
       "47829 2019-09-30 21:00:00            0.06832              3.668   \n",
       "47830 2019-09-30 22:00:00            0.06636              3.640   \n",
       "47831 2019-09-30 23:00:00            0.06496              3.598   \n",
       "\n",
       "       USGS_Mas_SF(m3/s)  USGS_Was_SF(m3/s)  NWM_Har_SF(m3/s)  \\\n",
       "0                476.000             826.70              4.10   \n",
       "1                471.100             855.40              4.13   \n",
       "2                468.300             862.40              4.17   \n",
       "3                467.600             860.30              4.20   \n",
       "4                466.900             855.40              4.23   \n",
       "...                  ...                ...               ...   \n",
       "47827             16.674              29.05              0.47   \n",
       "47828             16.569              28.77              0.47   \n",
       "47829             16.429              28.56              0.47   \n",
       "47830             16.296              28.35              0.48   \n",
       "47831             16.177              28.21              0.49   \n",
       "\n",
       "       NWM_Mad_SF(m3/s)  NWM_Mas_SF(m3/s)  NWM_Was_SF(m3/s)  \n",
       "0             26.449999        576.479987        455.299990  \n",
       "1             25.809999        574.699987        470.949989  \n",
       "2             25.129999        570.879987        488.009989  \n",
       "3             24.529999        565.379987        506.929989  \n",
       "4             23.949999        558.609988        528.119988  \n",
       "...                 ...               ...               ...  \n",
       "47827          7.770000         17.070000         40.819999  \n",
       "47828          7.770000         17.070000         40.859999  \n",
       "47829          7.770000         17.070000         40.899999  \n",
       "47830          7.770000         17.070000         40.939999  \n",
       "47831          7.780000         17.070000         40.979999  \n",
       "\n",
       "[47832 rows x 9 columns]"
      ]
     },
     "execution_count": 106,
     "metadata": {},
     "output_type": "execute_result"
    }
   ],
   "source": [
    "df_streamflow_hourly=pd.read_csv(\"df_streamflow_hourly.csv\")\n",
    "df_streamflow_hourly[\"Datetime\"]=pd.to_datetime(df_streamflow_hourly[\"Datetime\"])\n",
    "df_streamflow_hourly"
   ]
  },
  {
   "cell_type": "code",
   "execution_count": 9,
   "metadata": {},
   "outputs": [
    {
     "data": {
      "image/png": "[encoded data removed]",
      "text/plain": [
       "<Figure size 720x1080 with 4 Axes>"
      ]
     },
     "metadata": {
      "needs_background": "light"
     },
     "output_type": "display_data"
    }
   ],
   "source": [
    "plt.rcParams.update({'font.size': 16})\n",
    "\n",
    "X1 = da_802939.loc[0:50374,'datetime'] #df_streamflow['Datetime'] \n",
    "Y1 = da_802939.loc[0:50374,'streamflow'] #df_streamflow['NWM_Har_SF(m3/s)'] \n",
    "fig = plt.figure(figsize=(10,15))\n",
    "ax1 = plt.subplot(4,1,1)\n",
    "ax1.plot(X1, Y1, label = \"NWM\")\n",
    "plt.ylabel(\"streamflow, $m^3$/s\")\n",
    "#ax1.set_xticklabels([])\n",
    "fig.tight_layout(h_pad=3.0)\n",
    "\n",
    "X2 = df_01017060.loc[0:446449,'datetime'] #df_streamflow['Datetime']\n",
    "Y2 = df_01017060.loc[0:446449,'streamflow(m3/s)'] #df_streamflow['USGS_Har_SF(m3/s)']\n",
    "ax1.plot(X2, Y2, label = \"USGS Gauge\")\n",
    "plt.ylabel(\"streamflow, $m^3$/s\")\n",
    "#ax1.set_title('Hardwood Brook below Glidden Brk nr Caribou, Maine, 2014-2019',)\n",
    "text(0.25,0.9,'Hardwood Brook below Glidden Brook near Caribou',transform=ax1.transAxes,fontsize=\"14\")\n",
    "text(0.5,-0.25,'(a)',transform=ax1.transAxes,fontsize=\"16\")\n",
    "ax1.yaxis.set_major_locator(ticker.MultipleLocator(3))\n",
    "#------------------------------------------------------------------------------------------\n",
    "X3 = da_802877.loc[0:50374,'datetime'] #df_streamflow['Datetime']\n",
    "Y3 = da_802877.loc[0:50374,'streamflow'] #df_streamflow['NWM_Mad_SF(m3/s)'] \n",
    "ax2 = plt.subplot(4,1,2)\n",
    "ax2.plot(X3, Y3, label = \"NWM\")\n",
    "plt.ylabel(\"streamflow, $m^3$/s\")\n",
    "#ax2.set_xticklabels([])\n",
    "\n",
    "X4 = df_01017290.loc[96:154942,'datetime'] #df_streamflow['Datetime']\n",
    "Y4 = df_01017290.loc[96:154942,'streamflow(m3/s)'] #df_streamflow['USGS_Mad_SF(m3/s)']\n",
    "ax2.plot(X4, Y4, label = \"USGS Gauge\")\n",
    "plt.ylabel(\"streamflow, $m^3$/s\")\n",
    "#ax2.set_title('Little Madawaska River at Caribou, Maine, 2014-2019')\n",
    "ax2.yaxis.set_major_locator(ticker.MultipleLocator(75))\n",
    "text(0.25,0.9,'Little Madawaska River at Caribou',transform=ax2.transAxes,fontsize=\"14\")\n",
    "text(0.5,-0.25,'(b)',transform=ax2.transAxes,fontsize=\"16\")\n",
    "\n",
    "#------------------------------------------------------------------------------------------\n",
    "X5 = da_805443.loc[0:50374,'datetime'] #df_streamflow['Datetime']\n",
    "Y5 = da_805443.loc[0:50374,'streamflow'] #df_streamflow['NWM_Mas_SF(m3/s)'] \n",
    "ax3 = plt.subplot(4,1,3)\n",
    "ax3.plot(X5, Y5, label = \"NWM\")\n",
    "plt.ylabel(\"streamflow, $m^3$/s\")\n",
    "#ax3.set_xticklabels([])\n",
    "\n",
    "X6 = df_01015800.loc[0:148008,'datetime'] #df_streamflow['Datetime']\n",
    "Y6 = df_01015800.loc[0:148008,'streamflow(m3/s)'] #df_streamflow['USGS_Mas_SF(m3/s)']\n",
    "ax3.plot(X6, Y6, label = \"USGS Gauge\")\n",
    "plt.ylabel(\"streamflow, $m^3/s$\")\n",
    "#ax3.set_title('Aroostook River near Masardis, Maine, 2014-2019')\n",
    "text(0.25,0.9,'Aroostook River near Masardis',transform=ax3.transAxes,fontsize=\"14\")\n",
    "text(0.5,-0.25,'(c)',transform=ax3.transAxes,fontsize=\"16\")\n",
    "\n",
    "#------------------------------------------------------------------------------------------\n",
    "X7 = da_805113.loc[0:50374,'datetime'] #df_streamflow['Datetime']\n",
    "Y7 = da_805113.loc[0:50374,'streamflow'] #df_streamflow['NWM_Was_SF(m3/s)']\n",
    "ax4 = plt.subplot(4,1,4)\n",
    "ax4.plot(X7, Y7, label = \"NWM\")\n",
    "plt.ylabel(\"streamflow, $m^3$/s\")\n",
    "\n",
    "X8 = df_01017000.loc[0:149547,'datetime'] #df_streamflow['Datetime']\n",
    "Y8 = df_01017000.loc[0:149547,'streamflow(m3/s)'] #df_streamflow['USGS_Was_SF(m3/s)']\n",
    "ax4.plot(X8, Y8, label = \"USGS Gauge\")\n",
    "plt.ylabel(\"streamflow, $m^3$/s\")\n",
    "ax4.legend()\n",
    "plt.legend(loc = 'upper left',ncol=1, prop={'size':14},frameon=False)\n",
    "#ax4.set_title('Aroostook River near Washburn, Maine, 2014-2019')\n",
    "text(0.25,0.9,'Aroostook River near Washburn',transform=ax4.transAxes,fontsize=\"14\")\n",
    "text(0.5,-0.25,'(d)',transform=ax4.transAxes,fontsize=\"16\")\n",
    "\n",
    "fig.savefig('Figure9.jpeg',bbox_inches='tight',dpi=1600)"
   ]
  },
  {
   "cell_type": "code",
   "execution_count": 217,
   "metadata": {},
   "outputs": [],
   "source": [
    "from sklearn.metrics import mean_squared_error\n",
    "from scipy.stats import pearsonr\n",
    "import numpy as np"
   ]
  },
  {
   "cell_type": "code",
   "execution_count": 234,
   "metadata": {},
   "outputs": [
    {
     "name": "stdout",
     "output_type": "stream",
     "text": [
      "Root mean square error is: 0.4660435679644505\n"
     ]
    }
   ],
   "source": [
    "#mean_squared_error(df_streamflow['USGS_Mad_SF(m3/s)'], df_streamflow['NWM_Mad_SF(m3/s)'])\n",
    "rmse = np.sqrt(mean_squared_error(df_streamflow_Har['USGS_Har_SF(m3/s)'], df_streamflow_Har['NWM_Har_SF(m3/s)']))\n",
    "print('Root mean square error is: {}'.format(rmse))\n",
    "df_streamflow_Har[USGS_Har_SF(m3/s)]-df_streamflow_Har[NWM_Har_SF(m3/s)])**2.sum()"
   ]
  },
  {
   "cell_type": "code",
   "execution_count": 220,
   "metadata": {},
   "outputs": [
    {
     "name": "stdout",
     "output_type": "stream",
     "text": [
      "Pearsons correlation: 0.807\n",
      "aplha: 1.299\n",
      "beta: 1.090\n",
      "KGE for Hardwood Brook is: 0.633038077841402\n",
      "PBIAS for Hardwood Brook is: -9.02978141698105\n",
      "Nash Sutcliffe Efficiency for Hardwood Brook is: 0.40706253465021736\n",
      "Root mean square error is: 0.46697117268046356\n",
      "RSR is 0.7700243277648976\n",
      "RSR_check is 0.7700243277648977\n",
      "rmse_check is 0.46697117268046356\n"
     ]
    }
   ],
   "source": [
    "r, _ = pearsonr(df_streamflow_Har_drop[\"USGS_Har_SF(m3/s)\"],df_streamflow_Har_drop[\"NWM_Har_SF(m3/s)\"])\n",
    "alpha = np.std(df_streamflow_Har_drop[\"NWM_Har_SF(m3/s)\"]) / np.std(df_streamflow_Har_drop[\"USGS_Har_SF(m3/s)\"])\n",
    "beta = np.mean(df_streamflow_Har_drop[\"NWM_Har_SF(m3/s)\"]) / np.mean(df_streamflow_Har_drop[\"USGS_Har_SF(m3/s)\"])\n",
    "\n",
    "print('Pearsons correlation: %.3f' % r)\n",
    "print('aplha: %.3f' % alpha)\n",
    "print('beta: %.3f' % beta)\n",
    "\n",
    "a = (df_streamflow_Har_drop[\"USGS_Har_SF(m3/s)\"]-df_streamflow_Har_drop[\"NWM_Har_SF(m3/s)\"]).sum()\n",
    "b = df_streamflow_Har_drop[\"USGS_Har_SF(m3/s)\"].sum()\n",
    "KGE_Har = 1 - np.sqrt((r-1)**2 + (alpha-1)**2 + (beta-1)**2)\n",
    "print('KGE for Hardwood Brook is: {}'.format(KGE_Har))\n",
    "\n",
    "a = (df_streamflow_Har_drop[\"USGS_Har_SF(m3/s)\"]-df_streamflow_Har_drop[\"NWM_Har_SF(m3/s)\"]).sum()\n",
    "b = df_streamflow_Har_drop[\"USGS_Har_SF(m3/s)\"].sum()\n",
    "PBIAS_Har = 100*(a/b)\n",
    "print('PBIAS for Hardwood Brook is: {}'.format(PBIAS_Har))\n",
    "\n",
    "n = ((df_streamflow_Har_drop[\"USGS_Har_SF(m3/s)\"]-df_streamflow_Har_drop[\"NWM_Har_SF(m3/s)\"])**2).sum()\n",
    "d = ((df_streamflow_Har_drop[\"USGS_Har_SF(m3/s)\"]-df_streamflow_Har_drop[\"USGS_Har_SF(m3/s)\"].mean())**2).sum()\n",
    "NSE_Har = 1-n/d\n",
    "\n",
    "print('Nash Sutcliffe Efficiency for Hardwood Brook is: {}'.format(NSE_Har))\n",
    "\n",
    "rmse = np.sqrt(mean_squared_error(df_streamflow_Har_drop['USGS_Har_SF(m3/s)'], df_streamflow_Har_drop['NWM_Har_SF(m3/s)']))\n",
    "print('Root mean square error is: {}'.format(rmse))\n",
    "\n",
    "RSR = rmse / np.std(df_streamflow_Har_drop[\"USGS_Har_SF(m3/s)\"])\n",
    "print('RSR is {}'.format(RSR))\n",
    "\n",
    "w = np.sqrt(((df_streamflow_Har_drop[\"USGS_Har_SF(m3/s)\"] - df_streamflow_Har_drop[\"NWM_Har_SF(m3/s)\"])**2).sum()) \n",
    "t = np.sqrt(((df_streamflow_Har_drop[\"USGS_Har_SF(m3/s)\"] - df_streamflow_Har_drop[\"USGS_Har_SF(m3/s)\"].mean())**2).sum())\n",
    "RSR_check = w/t\n",
    "print('RSR_check is {}'.format(RSR_check))\n",
    "\n",
    "rmse_check = np.sqrt(((df_streamflow_Har_drop[\"USGS_Har_SF(m3/s)\"] - df_streamflow_Har_drop[\"NWM_Har_SF(m3/s)\"])**2).sum() / df_streamflow_Har_drop[\"USGS_Har_SF(m3/s)\"].count())\n",
    "print('rmse_check is {}'.format(rmse_check))\n"
   ]
  },
  {
   "cell_type": "code",
   "execution_count": 221,
   "metadata": {},
   "outputs": [
    {
     "name": "stdout",
     "output_type": "stream",
     "text": [
      "Pearsons correlation: 0.737\n",
      "aplha: 0.398\n",
      "beta: 0.898\n",
      "KGE for Madawaska is: 0.33510709813589334\n",
      "PBIAS for Madawaska is: 10.214764497036068\n",
      "Nash Sutcliffe Efficiency for Madawaska is: 0.4249508883071712\n",
      "Root mean square error is: 19.730926114985582\n",
      "RSR is: 0.7583199270049739\n"
     ]
    }
   ],
   "source": [
    "r, _ = pearsonr(df_streamflow_Mad_drop[\"USGS_Mad_SF(m3/s)\"],df_streamflow_Mad_drop[\"NWM_Mad_SF(m3/s)\"])\n",
    "alpha = np.std(df_streamflow_Mad_drop[\"NWM_Mad_SF(m3/s)\"]) / np.std(df_streamflow_Mad_drop[\"USGS_Mad_SF(m3/s)\"])\n",
    "beta = np.mean(df_streamflow_Mad_drop[\"NWM_Mad_SF(m3/s)\"]) / np.mean(df_streamflow_Mad_drop[\"USGS_Mad_SF(m3/s)\"])\n",
    "\n",
    "print('Pearsons correlation: %.3f' % r)\n",
    "print('aplha: %.3f' % alpha)\n",
    "print('beta: %.3f' % beta)\n",
    "\n",
    "a = (df_streamflow_Mad_drop[\"USGS_Mad_SF(m3/s)\"]-df_streamflow_Mad_drop[\"NWM_Mad_SF(m3/s)\"]).sum()\n",
    "b = df_streamflow_Mad_drop[\"USGS_Mad_SF(m3/s)\"].sum()\n",
    "KGE_Mad = 1 - np.sqrt((r-1)**2 + (alpha-1)**2 + (beta-1)**2)\n",
    "print('KGE for Madawaska is: {}'.format(KGE_Mad))\n",
    "\n",
    "a = (df_streamflow_Mad_drop[\"USGS_Mad_SF(m3/s)\"]-df_streamflow_Mad_drop[\"NWM_Mad_SF(m3/s)\"]).sum()\n",
    "b = df_streamflow_Mad_drop[\"USGS_Mad_SF(m3/s)\"].sum()\n",
    "PBIAS_Mad = 100*a/b\n",
    "print('PBIAS for Madawaska is: {}'.format(PBIAS_Mad))\n",
    "\n",
    "n = ((df_streamflow_Mad_drop[\"USGS_Mad_SF(m3/s)\"]-df_streamflow_Mad_drop[\"NWM_Mad_SF(m3/s)\"])**2).sum()\n",
    "d = ((df_streamflow_Mad_drop[\"USGS_Mad_SF(m3/s)\"]-df_streamflow_Mad_drop[\"USGS_Mad_SF(m3/s)\"].mean())**2).sum()\n",
    "NSE_Mad = 1-n/d\n",
    "\n",
    "print('Nash Sutcliffe Efficiency for Madawaska is: {}'.format(NSE_Mad))\n",
    "\n",
    "rmse = np.sqrt(mean_squared_error(df_streamflow_Mad_drop['USGS_Mad_SF(m3/s)'], df_streamflow_Mad_drop['NWM_Mad_SF(m3/s)']))\n",
    "print('Root mean square error is: {}'.format(rmse))\n",
    "\n",
    "RSR = rmse / np.std(df_streamflow_Mad_drop[\"USGS_Mad_SF(m3/s)\"])\n",
    "print('RSR is: {}'.format(RSR))"
   ]
  },
  {
   "cell_type": "code",
   "execution_count": 222,
   "metadata": {},
   "outputs": [
    {
     "name": "stdout",
     "output_type": "stream",
     "text": [
      "Pearsons correlation: 0.955\n",
      "aplha: 0.887\n",
      "beta: 0.932\n",
      "KGE for Masardis is: 0.8605944273686377\n",
      "PBIAS for Masardis is: 6.80870537940339\n",
      "Nash Sutcliffe Efficiency for Masardis is: 0.9056759602988621\n",
      "Root mean square error is: 25.120595145022108\n",
      "RSR is: 0.3071221901802895\n"
     ]
    }
   ],
   "source": [
    "r, _ = pearsonr(df_streamflow_Mas_drop[\"USGS_Mas_SF(m3/s)\"],df_streamflow_Mas_drop[\"NWM_Mas_SF(m3/s)\"])\n",
    "alpha = np.std(df_streamflow_Mas_drop[\"NWM_Mas_SF(m3/s)\"]) / np.std(df_streamflow_Mas_drop[\"USGS_Mas_SF(m3/s)\"])\n",
    "beta = np.mean(df_streamflow_Mas_drop[\"NWM_Mas_SF(m3/s)\"]) / np.mean(df_streamflow_Mas_drop[\"USGS_Mas_SF(m3/s)\"])\n",
    "\n",
    "print('Pearsons correlation: %.3f' % r)\n",
    "print('aplha: %.3f' % alpha)\n",
    "print('beta: %.3f' % beta)\n",
    "\n",
    "a = (df_streamflow_Mas_drop[\"USGS_Mas_SF(m3/s)\"]-df_streamflow_Mas_drop[\"NWM_Mas_SF(m3/s)\"]).sum()\n",
    "b = df_streamflow_Mas_drop[\"USGS_Mas_SF(m3/s)\"].sum()\n",
    "KGE_Mas = 1 - np.sqrt((r-1)**2 + (alpha-1)**2 + (beta-1)**2)\n",
    "print('KGE for Masardis is: {}'.format(KGE_Mas))\n",
    "\n",
    "a = (df_streamflow_Mas_drop[\"USGS_Mas_SF(m3/s)\"]-df_streamflow_Mas_drop[\"NWM_Mas_SF(m3/s)\"]).sum()\n",
    "b = df_streamflow_Mas_drop[\"USGS_Mas_SF(m3/s)\"].sum()\n",
    "PBIAS_Mas = 100*a/b\n",
    "print('PBIAS for Masardis is: {}'.format(PBIAS_Mas))\n",
    "\n",
    "n = ((df_streamflow_Mas_drop[\"USGS_Mas_SF(m3/s)\"]-df_streamflow_Mas_drop[\"NWM_Mas_SF(m3/s)\"])**2).sum()\n",
    "d = ((df_streamflow_Mas_drop[\"USGS_Mas_SF(m3/s)\"]-df_streamflow_Mas_drop[\"USGS_Mas_SF(m3/s)\"].mean())**2).sum()\n",
    "NSE_Mas = 1-n/d\n",
    "\n",
    "print('Nash Sutcliffe Efficiency for Masardis is: {}'.format(NSE_Mas))\n",
    "\n",
    "rmse = np.sqrt(mean_squared_error(df_streamflow_Mas_drop['USGS_Mas_SF(m3/s)'], df_streamflow_Mas_drop['NWM_Mas_SF(m3/s)']))\n",
    "print('Root mean square error is: {}'.format(rmse))\n",
    "\n",
    "RSR = rmse / np.std(df_streamflow_Mas_drop[\"USGS_Mas_SF(m3/s)\"])\n",
    "print('RSR is: {}'.format(RSR))"
   ]
  },
  {
   "cell_type": "code",
   "execution_count": 223,
   "metadata": {},
   "outputs": [
    {
     "name": "stdout",
     "output_type": "stream",
     "text": [
      "Pearsons correlation: 0.955\n",
      "aplha: 0.891\n",
      "beta: 0.969\n",
      "KGE for Washburn is: 0.8776507534787117\n",
      "PBIAS for Washburn is: 3.1191181455904524\n",
      "Nash Sutcliffe Efficiency for Washburn is: 0.90723432247701\n",
      "Root mean square error is: 46.437894134366864\n",
      "RSR s: 0.3045745844994129\n"
     ]
    }
   ],
   "source": [
    "r, _ = pearsonr(df_streamflow_Was_drop[\"USGS_Was_SF(m3/s)\"],df_streamflow_Was_drop[\"NWM_Was_SF(m3/s)\"])\n",
    "alpha = np.std(df_streamflow_Was_drop[\"NWM_Was_SF(m3/s)\"]) / np.std(df_streamflow_Was_drop[\"USGS_Was_SF(m3/s)\"])\n",
    "beta = np.mean(df_streamflow_Was_drop[\"NWM_Was_SF(m3/s)\"]) / np.mean(df_streamflow_Was_drop[\"USGS_Was_SF(m3/s)\"])\n",
    "\n",
    "print('Pearsons correlation: %.3f' % r)\n",
    "print('aplha: %.3f' % alpha)\n",
    "print('beta: %.3f' % beta)\n",
    "\n",
    "a = (df_streamflow_Was_drop[\"USGS_Was_SF(m3/s)\"]-df_streamflow_Was_drop[\"NWM_Was_SF(m3/s)\"]).sum()\n",
    "b = df_streamflow_Was_drop[\"USGS_Was_SF(m3/s)\"].sum()\n",
    "KGE_Was = 1 - np.sqrt((r-1)**2 + (alpha-1)**2 + (beta-1)**2)\n",
    "print('KGE for Washburn is: {}'.format(KGE_Was))\n",
    "\n",
    "a = (df_streamflow_Was_drop[\"USGS_Was_SF(m3/s)\"]-df_streamflow_Was_drop[\"NWM_Was_SF(m3/s)\"]).sum()\n",
    "b = df_streamflow_Was_drop[\"USGS_Was_SF(m3/s)\"].sum()\n",
    "PBIAS_Was = 100*a/b\n",
    "print('PBIAS for Washburn is: {}'.format(PBIAS_Was))\n",
    "\n",
    "n = ((df_streamflow_Was_drop[\"USGS_Was_SF(m3/s)\"]-df_streamflow_Was_drop[\"NWM_Was_SF(m3/s)\"])**2).sum()\n",
    "d = ((df_streamflow_Was_drop[\"USGS_Was_SF(m3/s)\"]-df_streamflow_Was_drop[\"USGS_Was_SF(m3/s)\"].mean())**2).sum()\n",
    "NSE_Was = 1-n/d\n",
    "\n",
    "print('Nash Sutcliffe Efficiency for Washburn is: {}'.format(NSE_Was))\n",
    "\n",
    "rmse = np.sqrt(mean_squared_error(df_streamflow_Was_drop['USGS_Was_SF(m3/s)'], df_streamflow_Was_drop['NWM_Was_SF(m3/s)']))\n",
    "print('Root mean square error is: {}'.format(rmse))\n",
    "\n",
    "RSR = rmse / np.std(df_streamflow_Was_drop[\"USGS_Was_SF(m3/s)\"])\n",
    "print('RSR s: {}'.format(RSR))"
   ]
  }
 ],
 "metadata": {
  "kernelspec": {
   "display_name": "Python 3",
   "language": "python",
   "name": "python3"
  },
  "language_info": {
   "codemirror_mode": {
    "name": "ipython",
    "version": 3
   },
   "file_extension": ".py",
   "mimetype": "text/x-python",
   "name": "python",
   "nbconvert_exporter": "python",
   "pygments_lexer": "ipython3",
   "version": "3.6.13"
  }
 },
 "nbformat": 4,
 "nbformat_minor": 4
}
